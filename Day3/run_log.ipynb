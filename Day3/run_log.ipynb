{
 "cells": [
  {
   "cell_type": "markdown",
   "source": [
    "## 网页元素\n",
    "### File upload"
   ],
   "metadata": {
    "collapsed": false
   },
   "id": "cccfcbeba5bcd360"
  },
  {
   "cell_type": "markdown",
   "source": [
    "官方示例，网页源代码"
   ],
   "metadata": {
    "collapsed": false
   },
   "id": "20a68d4ed70e38a8"
  },
  {
   "cell_type": "code",
   "execution_count": null,
   "id": "initial_id",
   "metadata": {
    "collapsed": true
   },
   "outputs": [],
   "source": [
    "'''\n",
    "<p>Choose a file on your system and then click upload. Or, drag and drop a file into the area below.</p>\n",
    "  <form method='POST' enctype='multipart/form-data'>\n",
    "    <input id='file-upload' type='file' name='file'>\n",
    "    </br>\n",
    "    <input class=\"button\" id='file-submit' type='submit' value='Upload'>\n",
    "  </form>\n",
    "</div>\n",
    "'''"
   ]
  },
  {
   "cell_type": "markdown",
   "source": [
    "可以看到元素是 file 类型的 input 元素 即type file使用input标签"
   ],
   "metadata": {
    "collapsed": false
   },
   "id": "9d33b455f31b1008"
  },
  {
   "cell_type": "markdown",
   "source": [
    "使用官方示例代码尝试提交input数据"
   ],
   "metadata": {
    "collapsed": false
   },
   "id": "90a42ea5164dea8e"
  },
  {
   "cell_type": "code",
   "outputs": [],
   "source": [
    "!conda run -n myPyTest pytest -sv G:\\Git_repo\\PytestParactice\\Day3\\test_file_upload.py"
   ],
   "metadata": {
    "collapsed": false
   },
   "id": "ba429dc505fc76b1",
   "execution_count": null
  },
  {
   "cell_type": "markdown",
   "source": [
    "运行顺利，但是，除了添加休眠时间，或者是在运行完截图存入日志这两种方法外，看不到网页的反馈啊\n",
    "下次研究研究，今天专注于定位器\n",
    "官方一共提供了八种定位方式"
   ],
   "metadata": {
    "collapsed": false
   },
   "id": "fed21383bc972c0f"
  },
  {
   "cell_type": "markdown",
   "source": [
    "1 class name、2 css selector、3 id、4 link text、5 partial link text、6 tag name、7 xpath、8 name\n",
    "相对来说，css selector、partial和xpath比较靠谱，（因为经常碰到网页不规范，class name等参数有重复"
   ],
   "metadata": {
    "collapsed": false
   },
   "id": "b13c519e4ff794f8"
  },
  {
   "cell_type": "markdown",
   "source": [
    "以下是官方示例中的html文件的部分代码"
   ],
   "metadata": {
    "collapsed": false
   },
   "id": "14ad6f1870f63f5f"
  },
  {
   "cell_type": "code",
   "outputs": [],
   "source": [
    "'''<form>\n",
    "  <input type=\"radio\" name=\"gender\" value=\"m\" />Male &nbsp;\n",
    "  <input type=\"radio\" name=\"gender\" value=\"f\" />Female <br>\n",
    "  <br>\n",
    "  <label for=\"fname\">First name:</label><br>\n",
    "  <input class=\"information\" type=\"text\" id=\"fname\" name=\"fname\" value=\"Jane\"><br><br>\n",
    "  <label for=\"lname\">Last name:</label><br>\n",
    "  <input class=\"information\" type=\"text\" id=\"lname\" name=\"lname\" value=\"Doe\"><br><br>\n",
    "  <label for=\"newsletter\">Newsletter:</label>\n",
    "  <input type=\"checkbox\" name=\"newsletter\" value=\"1\" /><br><br>\n",
    "  <input type=\"submit\" value=\"Submit\">\n",
    "</form>'''"
   ],
   "metadata": {
    "collapsed": false
   },
   "id": "febb7f7b172f291e",
   "execution_count": null
  },
  {
   "cell_type": "markdown",
   "source": [
    "    "
   ],
   "metadata": {
    "collapsed": false
   },
   "id": "d709170a453a20ee"
  },
  {
   "cell_type": "code",
   "outputs": [
    {
     "name": "stdout",
     "output_type": "stream",
     "text": [
      "<selenium.webdriver.remote.webelement.WebElement (session=\"0f94d0807a4dd041c92a1deb66d4e286\", element=\"f.0D9457DA7688698A993848FA5529597B.d.4967838CA5ED0B40229EA33F798BE2DC.e.5\")>\n",
      "<class 'selenium.webdriver.remote.webelement.WebElement'>\n",
      "fname\n"
     ]
    }
   ],
   "source": [
    "from selenium import webdriver\n",
    "from selenium.webdriver.common.by import By\n",
    "driver = webdriver.Chrome()\n",
    "driver.get(\"https://www.selenium.dev/selenium/web/locators_tests/locators.html\")\n",
    "element = driver.find_element(By.CLASS_NAME, \"information\")\n",
    "print(element)\n",
    "print(type(element))\n",
    "print(element.get_attribute('name'))\n",
    "driver.quit()"
   ],
   "metadata": {
    "collapsed": false,
    "ExecuteTime": {
     "end_time": "2025-05-29T08:30:10.627068Z",
     "start_time": "2025-05-29T08:30:05.088325Z"
    }
   },
   "id": "8dabe0d97d472ff1",
   "execution_count": 19
  },
  {
   "cell_type": "markdown",
   "source": [
    "从我的这段代码就可以知道，在class name有重复的情况下，如果条件不充分，选择器会直接定位到第一个元素，然后结束，根本无法定位到lname标签"
   ],
   "metadata": {
    "collapsed": false
   },
   "id": "33cde133dd851d7a"
  },
  {
   "cell_type": "markdown",
   "source": [
    "## 如果实在希望使用class name的话，可以用beautifulSoup等包来完成，这部分可以自行查阅"
   ],
   "metadata": {
    "collapsed": false
   },
   "id": "36eb68ecdeb80998"
  },
  {
   "cell_type": "markdown",
   "source": [
    "ps: 好像selenium支持find_elements，返回匹配到的所有标签，也可以再用正则表达式进行匹配\n",
    "我这里给一个简单的示例，并没有用正则表达式来筛选所需要的标签"
   ],
   "metadata": {
    "collapsed": false
   },
   "id": "ab8ec4321357baf1"
  },
  {
   "cell_type": "code",
   "outputs": [
    {
     "name": "stderr",
     "output_type": "stream",
     "text": [
      "There was an error managing chromedriver (error sending request for url (https://googlechromelabs.github.io/chrome-for-testing/known-good-versions-with-downloads.json)); using driver found in the cache\n"
     ]
    },
    {
     "name": "stdout",
     "output_type": "stream",
     "text": [
      "This domain is for use in illustrative examples in documents. You may use this domain in literature without prior coordination or asking for permission.\n",
      "More information...\n"
     ]
    }
   ],
   "source": [
    "from selenium import webdriver\n",
    "from selenium.webdriver.common.by import By\n",
    "\n",
    "driver = webdriver.Chrome()\n",
    "\n",
    "    # Navigate to Url\n",
    "driver.get(\"https://www.example.com\")\n",
    "\n",
    "    # Get all the elements available with tag name 'p'\n",
    "elements = driver.find_elements(By.TAG_NAME, 'p')\n",
    "\n",
    "for e in elements:\n",
    "    print(e.text)\n",
    "  "
   ],
   "metadata": {
    "collapsed": false,
    "ExecuteTime": {
     "end_time": "2025-05-29T09:38:50.766791Z",
     "start_time": "2025-05-29T09:37:48.698129Z"
    }
   },
   "id": "261a1dd23d42a888",
   "execution_count": 1
  },
  {
   "cell_type": "markdown",
   "source": [],
   "metadata": {
    "collapsed": false
   },
   "id": "2ae667c3da8cae5c"
  },
  {
   "cell_type": "code",
   "outputs": [
    {
     "name": "stdout",
     "output_type": "stream",
     "text": [
      "https://www.selenium.dev/\n"
     ]
    }
   ],
   "source": [
    "from selenium import webdriver\n",
    "from selenium.webdriver.common.by import By\n",
    "driver = webdriver.Chrome()\n",
    "driver.get(\"https://www.selenium.dev/selenium/web/locators_tests/locators.html\")\n",
    "#element = driver.find_element(By.PARTIAL_LINK_TEXT, \"Official Page\")\n",
    "element = driver.find_element(By.PARTIAL_LINK_TEXT, \"Page\")\n",
    "print(element.get_attribute('href'))\n",
    "assert element is not None\n",
    "assert element.get_attribute(\"href\") == \"https://www.selenium.dev/\"\n",
    "\n",
    "driver.quit()"
   ],
   "metadata": {
    "collapsed": false,
    "ExecuteTime": {
     "end_time": "2025-05-29T08:41:28.890794Z",
     "start_time": "2025-05-29T08:41:21.091091Z"
    }
   },
   "id": "8c4ea55cda53ec2f",
   "execution_count": 22
  },
  {
   "cell_type": "markdown",
   "source": [
    "可以自行切换注释掉的element，可以发现根据链接名字匹配元素，应该是使用正则表达式的匹配，只要跳转链接名字中包含所给参数字符串，即为匹配成功"
   ],
   "metadata": {
    "collapsed": false
   },
   "id": "aa5c8f405169d4f0"
  },
  {
   "cell_type": "markdown",
   "source": [
    "至于by.tag_name就更不用说了，很多关键tag都是重名的，这么匹配元素是给自己找事做"
   ],
   "metadata": {
    "collapsed": false
   },
   "id": "a49b2d0626f95b83"
  },
  {
   "cell_type": "markdown",
   "source": [
    "### HTML 文档可以视为 XML 文档，然后我们可以使用 xpath 来定位元素，该路径是遍历到达目标元素的路径。Xpath 可以是绝对路径，即从文档根目录创建的路径。例如：/html/form/input[1]。这将返回“男性”单选按钮。或者，xpath 也可以是相对路径。例如：//input[@name='fname']。这将返回“名字”文本框。让我们使用 xpath 创建“女性”单选按钮的定位器。"
   ],
   "metadata": {
    "collapsed": false
   },
   "id": "3c2f427476bb219f"
  },
  {
   "cell_type": "code",
   "outputs": [
    {
     "name": "stdout",
     "output_type": "stream",
     "text": [
      "radio\n"
     ]
    }
   ],
   "source": [
    "from selenium import webdriver\n",
    "from selenium.webdriver.common.by import By\n",
    "driver = webdriver.Chrome()\n",
    "driver.get(\"https://www.selenium.dev/selenium/web/locators_tests/locators.html\")\n",
    "#element = driver.find_element(By.XPATH, \"//input[@name='gender']\")\n",
    "element = driver.find_element(By.XPATH, \"//input[@name='gender' and @value='f']\")\n",
    "\n",
    "print(element.get_attribute('type'))\n",
    "\n",
    "driver.quit()"
   ],
   "metadata": {
    "collapsed": false,
    "ExecuteTime": {
     "end_time": "2025-05-29T09:22:45.554626Z",
     "start_time": "2025-05-29T09:22:37.637792Z"
    }
   },
   "id": "323e2a8a44b40319",
   "execution_count": 25
  },
  {
   "cell_type": "markdown",
   "source": [
    "### 在XPTH中可以在[]中使用and来利用多个值定位元素"
   ],
   "metadata": {
    "collapsed": false
   },
   "id": "214963ffae139ab2"
  },
  {
   "cell_type": "markdown",
   "source": [
    "## relative locators"
   ],
   "metadata": {
    "collapsed": false
   },
   "id": "5ae7b244ab0686f0"
  },
  {
   "cell_type": "markdown",
   "source": [
    "因为有些元素所在标签重复度高，难以定位，但他的父类、子类标签可能很好定位，selenium提供了相对定位器locate_with\n",
    "这样就可以更加方便的定位元素了"
   ],
   "metadata": {
    "collapsed": false
   },
   "id": "a633388b6d21cdeb"
  },
  {
   "cell_type": "code",
   "outputs": [],
   "source": [
    "from selenium import webdriver\n",
    "from selenium.webdriver.support.relative_locator import locate_with\n",
    "email_locator = locate_with(By.TAG_NAME, \"input\").above({By.ID: \"password\"})\n",
    "#password_locator = locate_with(By.TAG_NAME, \"input\").below({By.ID: \"email\"})"
   ],
   "metadata": {
    "collapsed": false
   },
   "id": "6bc60595645cba57"
  },
  {
   "cell_type": "markdown",
   "source": [
    "## 学会基础定位元素以后，就可以学习与定位到的元素进行交互了\n",
    "包括点击click，传递信息send_keys，清除clear，submit提交等等"
   ],
   "metadata": {
    "collapsed": false
   },
   "id": "e1fd1dadea5d044"
  },
  {
   "cell_type": "code",
   "outputs": [],
   "source": [
    "from selenium import webdriver\n",
    "from selenium.webdriver.common.by import By\n",
    "driver = webdriver.Chrome()\n",
    "# Navigate to URL\n",
    "driver.get(\"https://www.selenium.dev/selenium/web/inputs.html\")\n",
    "\n",
    "# Click on the checkbox\n",
    "check_input = driver.find_element(By.NAME, \"checkbox_input\")\n",
    "check_input.click()"
   ],
   "metadata": {
    "collapsed": false,
    "ExecuteTime": {
     "end_time": "2025-05-29T09:42:54.059891Z",
     "start_time": "2025-05-29T09:42:52.220460Z"
    }
   },
   "id": "27dca1c3d6763a57",
   "execution_count": 2
  },
  {
   "cell_type": "markdown",
   "source": [
    "上述代码实现了勾选页面的方框选项，下面来试试点击跳转链接"
   ],
   "metadata": {
    "collapsed": false
   },
   "id": "3631e940d25a8a74"
  },
  {
   "cell_type": "code",
   "outputs": [],
   "source": [
    "from selenium import webdriver\n",
    "from selenium.webdriver.common.by import By\n",
    "\n",
    "driver = webdriver.Chrome()\n",
    "\n",
    "    # Navigate to Url\n",
    "driver.get(\"https://www.example.com\")\n",
    "element = driver.find_element(By.XPATH, \"//a[contains(@href, 'iana.org')]\")\n",
    "#以下是三种定位方法\n",
    "'''# 使用部分链接文本\n",
    "driver.find_element(By.PARTIAL_LINK_TEXT, \"More\")\n",
    "\n",
    "# 使用CSS选择器\n",
    "driver.find_element(By.CSS_SELECTOR, \"div > p > a[href*='iana.org']\")\n",
    "\n",
    "# 使用XPath\n",
    "driver.find_element(By.XPATH, \"//a[contains(@href, 'iana.org')]\")'''\n",
    "element.click()\n",
    "\n"
   ],
   "metadata": {
    "collapsed": false,
    "ExecuteTime": {
     "end_time": "2025-05-29T09:57:31.517274Z",
     "start_time": "2025-05-29T09:57:25.631848Z"
    }
   },
   "id": "b270ffe261b4c4e1",
   "execution_count": 7
  },
  {
   "cell_type": "markdown",
   "source": [
    "成功跳转！\n",
    "send_keys在开头已经体验，\n",
    "在 Selenium 4 中，submit不再通过单独的端点实现，而是通过执行脚本来实现。因此，建议不要使用此方法，而是点击相应的表单提交按钮。\n",
    "大家可以自行体验一下clear的使用，下面是官方示例"
   ],
   "metadata": {
    "collapsed": false
   },
   "id": "a180d8cc9ac6f189"
  },
  {
   "cell_type": "code",
   "outputs": [],
   "source": [
    "# Handle the email input field\n",
    "email_input = driver.find_element(By.NAME, \"email_input\")\n",
    "email_input.clear()  # Clear field\n",
    "    \n",
    "email = \"admin@localhost.dev\"\n",
    "email_input.send_keys(email)  # Enter text"
   ],
   "metadata": {
    "collapsed": false
   },
   "id": "a813a7c941ab481d"
  }
 ],
 "metadata": {
  "kernelspec": {
   "display_name": "Python 3",
   "language": "python",
   "name": "python3"
  },
  "language_info": {
   "codemirror_mode": {
    "name": "ipython",
    "version": 2
   },
   "file_extension": ".py",
   "mimetype": "text/x-python",
   "name": "python",
   "nbconvert_exporter": "python",
   "pygments_lexer": "ipython2",
   "version": "2.7.6"
  }
 },
 "nbformat": 4,
 "nbformat_minor": 5
}
