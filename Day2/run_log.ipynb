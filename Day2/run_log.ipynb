{
 "cells": [
  {
   "cell_type": "markdown",
   "source": [
    "## 剩余pytest的操作基本与配置、hook等个性化设置有关，而命令行操作语法与shell语法基本相似，可以自行查阅官方文档，等到具体项目的时候再学，今天先复习一下Selenium"
   ],
   "metadata": {
    "collapsed": false
   },
   "id": "903d22740f0b7afe"
  },
  {
   "cell_type": "code",
   "execution_count": 6,
   "id": "initial_id",
   "metadata": {
    "collapsed": true,
    "ExecuteTime": {
     "end_time": "2025-05-27T09:02:44.696900Z",
     "start_time": "2025-05-27T09:02:34.611410Z"
    }
   },
   "outputs": [],
   "source": [
    "from selenium import webdriver\n",
    "driver = webdriver.Chrome()\n",
    "driver.maximize_window()\n",
    "driver.get(\"http://selenium.dev\")\n",
    "driver.quit()"
   ]
  },
  {
   "cell_type": "markdown",
   "source": [],
   "metadata": {
    "collapsed": false
   },
   "id": "354aaca357f0ddf0"
  },
  {
   "cell_type": "markdown",
   "source": [
    "通过运行上述代码检查环境配置是否有问题，如有问题可以自行查阅文档解决"
   ],
   "metadata": {
    "collapsed": false
   },
   "id": "e700780e8651a965"
  },
  {
   "cell_type": "markdown",
   "source": [
    "使用一个官方示例来测试,见using_selenium_tests.py直接运行即可"
   ],
   "metadata": {
    "collapsed": false
   },
   "id": "dc45b14725454039"
  },
  {
   "cell_type": "code",
   "outputs": [
    {
     "name": "stdout",
     "output_type": "stream",
     "text": [
      "\u001B[1m============================= test session starts =============================\u001B[0m\n",
      "\n",
      "platform win32 -- Python 3.9.21, pytest-8.3.4, pluggy-1.5.0 -- E:\\Anaconda\\envs\\myPyTest\\python.exe\n",
      "\n",
      "cachedir: .pytest_cache\n",
      "\n",
      "rootdir: G:\\Git_repo\\PytestParactice\n",
      "\n",
      "configfile: pytest.ini\n",
      "\n",
      "plugins: anyio-4.7.0\n",
      "\n",
      "\u001B[1mcollecting ... \u001B[0mcollected 1 item\n",
      "\n",
      "\n",
      "\n",
      "using_selenium_tests.py::test_eight_components \u001B[32mPASSED\u001B[0m\n",
      "\n",
      "\n",
      "\n",
      "\u001B[32m============================== \u001B[32m\u001B[1m1 passed\u001B[0m\u001B[32m in 9.22s\u001B[0m\u001B[32m ==============================\u001B[0m\n"
     ]
    }
   ],
   "source": [
    "!conda run -n myPyTest pytest -sv G:\\Git_repo\\PytestParactice\\Day2\\using_selenium_tests.py "
   ],
   "metadata": {
    "collapsed": false,
    "ExecuteTime": {
     "end_time": "2025-05-27T09:38:16.508857Z",
     "start_time": "2025-05-27T09:38:06.441773Z"
    }
   },
   "id": "34d619164817f64d",
   "execution_count": 6
  },
  {
   "cell_type": "markdown",
   "source": [
    "嘿，给我气笑了，笔者才发现之前pytest一直用的默认conda环境，即base环境在跑测试，不是这个包一直没导入，笔者还发现不了，改成上述命令就好了，！是用来告诉Jupyter，这是命令行语句的"
   ],
   "metadata": {
    "collapsed": false
   },
   "id": "4df71702d4d7c0d5"
  },
  {
   "cell_type": "markdown",
   "source": [
    "test_options.py 是selenium官方给出的option说明用例，现在来体验一下"
   ],
   "metadata": {
    "collapsed": false
   },
   "id": "f0a893808b8087d3"
  },
  {
   "cell_type": "code",
   "outputs": [
    {
     "name": "stdout",
     "output_type": "stream",
     "text": [
      "\u001B[1m============================= test session starts =============================\u001B[0m\n",
      "\n",
      "platform win32 -- Python 3.9.21, pytest-8.3.4, pluggy-1.5.0 -- E:\\Anaconda\\envs\\myPyTest\\python.exe\n",
      "\n",
      "cachedir: .pytest_cache\n",
      "\n",
      "rootdir: G:\\Git_repo\\PytestParactice\n",
      "\n",
      "configfile: pytest.ini\n",
      "\n",
      "plugins: anyio-4.7.0\n",
      "\n",
      "\u001B[1mcollecting ... \u001B[0mcollected 1 item\n",
      "\n",
      "\n",
      "\n",
      "test_options.py::test_page_load_strategy_normal \u001B[32mPASSED\u001B[0m\n",
      "\n",
      "\n",
      "\n",
      "\u001B[32m============================== \u001B[32m\u001B[1m1 passed\u001B[0m\u001B[32m in 9.79s\u001B[0m\u001B[32m ==============================\u001B[0m\n"
     ]
    }
   ],
   "source": [
    "!conda run -n myPyTest pytest -sv G:\\Git_repo\\PytestParactice\\Day2\\test_options.py::test_page_load_strategy_normal"
   ],
   "metadata": {
    "collapsed": false,
    "ExecuteTime": {
     "end_time": "2025-05-27T11:48:15.783016Z",
     "start_time": "2025-05-27T11:48:05.127801Z"
    }
   },
   "id": "5e398123886ff6a",
   "execution_count": 8
  },
  {
   "cell_type": "markdown",
   "source": [
    "其中options.add_argument('--no-sandbox')代表的是以最高权限运行"
   ],
   "metadata": {
    "collapsed": false
   },
   "id": "825a6c2f05427169"
  },
  {
   "cell_type": "markdown",
   "source": [
    "## 页面加载策略详解：Normal、Eager 和 None 的区别与应用"
   ],
   "metadata": {
    "collapsed": false
   },
   "id": "7cc2476414e30e06"
  },
  {
   "cell_type": "markdown",
   "source": [
    "### Normal（默认策略）"
   ],
   "metadata": {
    "collapsed": false
   },
   "id": "d4ea964bcf38714d"
  },
  {
   "cell_type": "markdown",
   "source": [
    "### 定义：Normal 是 Selenium 的默认加载策略。它会等待页面中的所有资源（包括 CSS、图片、JavaScript 等）加载完成后再执行后续操作。\n",
    "适用场景：适用于需要确保页面完全加载后再进行操作的场景。\n",
    "特点：\n",
    "等待页面完全加载，包括所有资源。\n",
    "适用于需要操作动态加载内容（如 AJAX）的场景。"
   ],
   "metadata": {
    "collapsed": false
   },
   "id": "69e1bb7966319c85"
  },
  {
   "cell_type": "markdown",
   "source": [
    "### Eager"
   ],
   "metadata": {
    "collapsed": false
   },
   "id": "66c2df605959f281"
  },
  {
   "cell_type": "markdown",
   "source": [
    "### 定义：Eager 策略会在 DOM（Document Object Model）加载完成后立即执行后续操作，而不会等待页面中的 CSS、图片、JavaScript 等资源加载完成。\n",
    "适用场景：适用于需要快速加载页面并进行操作的场景。\n",
    "特点：\n",
    "等待 DOM 加载完成后立即执行。\n",
    "提高测试脚本的执行效率。"
   ],
   "metadata": {
    "collapsed": false
   },
   "id": "4c6a987397eb390f"
  },
  {
   "cell_type": "markdown",
   "source": [
    "### None"
   ],
   "metadata": {
    "collapsed": false
   },
   "id": "bfd99b7dae776147"
  },
  {
   "cell_type": "markdown",
   "source": [
    "### 定义：None 策略不会等待页面加载完成，而是立即执行后续操作。它只等待页面的初始 HTML 内容加载完成。\n",
    "适用场景：适用于需要在页面部分加载时就开始操作的场景。\n",
    "特点：\n",
    "不等待页面加载完成。\n",
    "提高测试脚本的执行效率，但可能需要额外的等待逻辑。"
   ],
   "metadata": {
    "collapsed": false
   },
   "id": "79a4dc86ad0084e7"
  },
  {
   "cell_type": "markdown",
   "source": [
    "## 测试一个页面的加载速度实际例子"
   ],
   "metadata": {
    "collapsed": false
   },
   "id": "7ae0678aff04acb1"
  },
  {
   "cell_type": "markdown",
   "source": [
    "假设需要测试一个页面的加载速度，但页面中包含大量图片和 JavaScript 脚本。如果使用 Normal 策略，测试脚本的执行效率会较低。因此，可以尝试使用 Eager 或 None 策略。"
   ],
   "metadata": {
    "collapsed": false
   },
   "id": "eabbb294c37091b9"
  },
  {
   "cell_type": "code",
   "outputs": [
    {
     "name": "stdout",
     "output_type": "stream",
     "text": [
      "Page loaded in 0.7138986587524414 seconds\n"
     ]
    }
   ],
   "source": [
    "from selenium import webdriver\n",
    "from selenium.webdriver.chrome.options import Options\n",
    "import time\n",
    "\n",
    "# 使用 Eager 策略\n",
    "options = Options()\n",
    "options.page_load_strategy = 'eager'\n",
    "driver = webdriver.Chrome(options=options)\n",
    "start_time = time.time()\n",
    "driver.get(\"https://example.com\")\n",
    "end_time = time.time()\n",
    "print(f\"Page loaded in {end_time - start_time} seconds\")\n",
    "driver.quit()"
   ],
   "metadata": {
    "collapsed": false,
    "ExecuteTime": {
     "end_time": "2025-05-27T12:18:31.494797Z",
     "start_time": "2025-05-27T12:18:23.457689Z"
    }
   },
   "id": "7b8a241d90289b4a",
   "execution_count": 12
  },
  {
   "cell_type": "markdown",
   "source": [
    "可以看到，相对于normal方式，网页的很多图片甚至还没加载出来，浏览器就已经自动关闭，这在测试的时候可以节省大量的时间"
   ],
   "metadata": {
    "collapsed": false
   },
   "id": "c70b51e17db86113"
  },
  {
   "cell_type": "markdown",
   "source": [
    "### 使用代理\n",
    "实际使用中可能有部分网站需要代理才能访问，并且希望设置成只有这部分网站使用代理，可以进行如下配置"
   ],
   "metadata": {
    "collapsed": false
   },
   "id": "450231a664e0f6ae"
  },
  {
   "cell_type": "code",
   "outputs": [],
   "source": [
    "from selenium import webdriver\n",
    "from selenium.webdriver.common.proxy import Proxy, ProxyType\n",
    "\n",
    "proxy = Proxy({\n",
    "    'proxyType': ProxyType.MANUAL,\n",
    "    'httpProxy': 'corp-proxy.example.com:8080',\n",
    "    'sslProxy': 'corp-proxy.example.com:8080',\n",
    "    'noProxy': 'localhost,127.0.0.1'  # 排除代理的地址\n",
    "})\n",
    "\n",
    "options = webdriver.ChromeOptions()\n",
    "options.proxy = proxy\n",
    "driver = webdriver.Chrome(options=options)\n"
   ],
   "metadata": {
    "collapsed": false
   },
   "id": "52bcf076daf8fbac"
  },
  {
   "cell_type": "markdown",
   "source": [
    "配置内容类似与虚拟机Ubuntu的手动代理配置，需要将主机上的VPN设置监听特定端口，然后设置端口转发，由于不同VPN甚至不同版本操作都不相同，这里不赘述"
   ],
   "metadata": {
    "collapsed": false
   },
   "id": "d1c14127c4815515"
  },
  {
   "cell_type": "markdown",
   "source": [
    "implicit\t会话隐式等待超时的整数（毫秒）\n",
    "pageLoad    会话页面加载超时的整数（毫秒）\n",
    "script      会话脚本超时的整数（毫秒）"
   ],
   "metadata": {
    "collapsed": false
   },
   "id": "1371bba01d97765e"
  },
  {
   "cell_type": "markdown",
   "source": [
    "后两者的默认值均为30000，而隐式等待默认为0，这就又与刚开始的page_load_strategy有关，implicit  0配合normal，否则容易查找不到动态加载的元素"
   ],
   "metadata": {
    "collapsed": false
   },
   "id": "446412a7b2769fc6"
  },
  {
   "cell_type": "markdown",
   "source": [
    "### acceptInsecureCerts"
   ],
   "metadata": {
    "collapsed": false
   },
   "id": "e94532e6e32b7c04"
  },
  {
   "cell_type": "markdown",
   "source": [
    "此功能检查在会话期间导航时 是否使用了过期的 (或) 无效的 TLS Certificate .\n",
    "\n",
    "如果将功能设置为 false, 则页面浏览遇到任何域证书问题时, 将返回insecure certificate error . 如果设置为 true, 则浏览器将信任无效证书.\n",
    "\n",
    "默认情况下, 此功能将信任所有自签名证书. 设置后, acceptInsecureCerts 功能将在整个会话中生效."
   ],
   "metadata": {
    "collapsed": false
   },
   "id": "a942b892c26c0955"
  },
  {
   "cell_type": "code",
   "outputs": [],
   "source": [
    "options = webdriver.ChromeOptions()\n",
    "options.add_argument(\"--no-sandbox\")\n",
    "driver = webdriver.Chrome(options=options)"
   ],
   "metadata": {
    "collapsed": false
   },
   "id": "e21080de70d80e67"
  },
  {
   "cell_type": "markdown",
   "source": [
    "## 将 detach 参数设置为 true 将在进程结束后保持浏览器打开，"
   ],
   "metadata": {
    "collapsed": false
   },
   "id": "459cb4c7ad74362d"
  },
  {
   "cell_type": "markdown",
   "source": [
    "这其实类似于ssh远程访问游戏linux服务器一样，通常情况下会话的生命周期同你的ssh连接，一旦你关闭连接，游戏进程就会自动结束，这时候就需要detach来使进程的生命周期独立于ssh窗口，即脱离主线程。\n",
    "在这个实例中，只要不关闭自动打开的浏览器，selenium就会以后台进程的形式一直运行"
   ],
   "metadata": {
    "collapsed": false
   },
   "id": "20e35426d59581ce"
  },
  {
   "cell_type": "code",
   "outputs": [],
   "source": [
    "options.add_experimental_option(\"detach\", True)"
   ],
   "metadata": {
    "collapsed": false
   },
   "id": "8f2a019372d2eb3f"
  },
  {
   "cell_type": "markdown",
   "source": [
    "## 下面是selenium窗口的弹出窗口阻止程序，即你程序打开的浏览器无弹窗"
   ],
   "metadata": {
    "collapsed": false
   },
   "id": "18ba66da0a2d3cbb"
  },
  {
   "cell_type": "code",
   "outputs": [],
   "source": [
    "options.add_experimental_option('excludeSwitches', ['disable-popup-blocking'])"
   ],
   "metadata": {
    "collapsed": false
   },
   "id": "9ebedda2106c8b89"
  },
  {
   "cell_type": "markdown",
   "source": [
    "##  Service class"
   ],
   "metadata": {
    "collapsed": false
   },
   "id": "7472c6fb4a6a5e84"
  },
  {
   "cell_type": "markdown",
   "source": [
    "更改日志输出以保存到特定文件"
   ],
   "metadata": {
    "collapsed": false
   },
   "id": "ce5cc8f55b40ae8"
  },
  {
   "cell_type": "code",
   "outputs": [],
   "source": [
    "log_path = r\"G:/log\"#自定义输出地点\n",
    "service = webdriver.ChromeService(log_output=log_path)"
   ],
   "metadata": {
    "collapsed": false
   },
   "id": "b0d8c9101b2c92e"
  },
  {
   "cell_type": "markdown",
   "source": [
    "将日志输出更改为在控制台中显示为 STDOUT"
   ],
   "metadata": {
    "collapsed": false
   },
   "id": "d6c4c4a836989956"
  },
  {
   "cell_type": "code",
   "outputs": [],
   "source": [
    "import subprocess\n",
    "service = webdriver.ChromeService(log_output=subprocess.STDOUT)"
   ],
   "metadata": {
    "collapsed": false
   },
   "id": "61756d161f84f10b"
  },
  {
   "cell_type": "markdown",
   "source": [
    "### 共有 6 个可用的日志级别： ALL 、 DEBUG 、 INFO 、 WARNING 、 SEVERE 和 OFF"
   ],
   "metadata": {
    "collapsed": false
   },
   "id": "33e1e02a3204a4a"
  },
  {
   "cell_type": "code",
   "outputs": [],
   "source": [
    "import subprocess\n",
    "service = webdriver.ChromeService(service_args=['--log-level=DEBUG'], log_output=subprocess.STDOUT)"
   ],
   "metadata": {
    "collapsed": false
   },
   "id": "bf6659a548d070e6"
  },
  {
   "cell_type": "markdown",
   "source": [],
   "metadata": {
    "collapsed": false
   },
   "id": "9b940ae37c375311"
  }
 ],
 "metadata": {
  "kernelspec": {
   "name": "mypytest",
   "language": "python",
   "display_name": "myPyTest"
  },
  "language_info": {
   "codemirror_mode": {
    "name": "ipython",
    "version": 2
   },
   "file_extension": ".py",
   "mimetype": "text/x-python",
   "name": "python",
   "nbconvert_exporter": "python",
   "pygments_lexer": "ipython2",
   "version": "2.7.6"
  }
 },
 "nbformat": 4,
 "nbformat_minor": 5
}
