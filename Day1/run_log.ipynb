{
 "cells": [
  {
   "cell_type": "markdown",
   "source": [],
   "metadata": {
    "collapsed": false
   },
   "id": "6301b7062dcdc489"
  },
  {
   "cell_type": "markdown",
   "source": [
    "<font size=\"5\"> 错误的报告，这里实际是后来的test_add_2 </font>"
   ],
   "metadata": {
    "collapsed": false
   },
   "id": "7b23fecc0010b454"
  },
  {
   "cell_type": "code",
   "execution_count": 10,
   "id": "initial_id",
   "metadata": {
    "collapsed": true,
    "ExecuteTime": {
     "end_time": "2025-05-24T10:20:58.735432Z",
     "start_time": "2025-05-24T10:20:58.401527Z"
    }
   },
   "outputs": [
    {
     "name": "stdout",
     "output_type": "stream",
     "text": [
      "\u001B[1m============================= test session starts =============================\u001B[0m\n",
      "platform win32 -- Python 3.11.7, pytest-7.4.0, pluggy-1.0.0\n",
      "rootdir: G:\\Git_repo\\PytestParactice\n",
      "plugins: anyio-4.2.0\n",
      "collected 1 item\n",
      "\n",
      "Day1\\test_add.py \u001B[31mF\u001B[0m\u001B[31m                                                       [100%]\u001B[0m\n",
      "\n",
      "================================== FAILURES ===================================\n",
      "\u001B[31m\u001B[1m__________________________________ test_add ___________________________________\u001B[0m\n",
      "\n",
      "    \u001B[94mdef\u001B[39;49;00m \u001B[92mtest_add\u001B[39;49;00m(): \u001B[90m# 测试函数需以test_开头\u001B[39;49;00m\u001B[90m\u001B[39;49;00m\n",
      "    \u001B[90m    \u001B[39;49;00m\u001B[33m\"\"\"测试加法\"\"\"\u001B[39;49;00m\u001B[90m\u001B[39;49;00m\n",
      "        s = \u001B[94m1\u001B[39;49;00m + \u001B[94m2\u001B[39;49;00m\u001B[90m\u001B[39;49;00m\n",
      ">       \u001B[94massert\u001B[39;49;00m s == \u001B[94m4\u001B[39;49;00m, \u001B[33mf\u001B[39;49;00m\u001B[33m'\u001B[39;49;00m\u001B[33m断言失败, \u001B[39;49;00m\u001B[33m{\u001B[39;49;00ms\u001B[33m}\u001B[39;49;00m\u001B[33m != 3\u001B[39;49;00m\u001B[33m'\u001B[39;49;00m \u001B[90m# 断言\u001B[39;49;00m\u001B[90m\u001B[39;49;00m\n",
      "\u001B[1m\u001B[31mE       AssertionError: 断言失败, 3 != 3\u001B[0m\n",
      "\u001B[1m\u001B[31mE       assert 3 == 4\u001B[0m\n",
      "\n",
      "\u001B[1m\u001B[31mDay1\\test_add.py\u001B[0m:4: AssertionError\n",
      "\u001B[36m\u001B[1m=========================== short test summary info ===========================\u001B[0m\n",
      "\u001B[31mFAILED\u001B[0m Day1/test_add.py::\u001B[1mtest_add\u001B[0m - AssertionError: 断言失败, 3 != 3\n",
      "\u001B[31m============================== \u001B[31m\u001B[1m1 failed\u001B[0m\u001B[31m in 0.05s\u001B[0m\u001B[31m ==============================\u001B[0m\n"
     ]
    }
   ],
   "source": [
    "!python  G:\\Git_repo\\PytestParactice\\Day1\\test_add.py"
   ]
  },
  {
   "cell_type": "markdown",
   "source": [
    "<font size=\"5\">正确的的报告</font>"
   ],
   "metadata": {
    "collapsed": false
   },
   "id": "1e7145b1ffe08f61"
  },
  {
   "cell_type": "code",
   "outputs": [
    {
     "name": "stdout",
     "output_type": "stream",
     "text": [
      "\u001B[1m============================= test session starts =============================\u001B[0m\n",
      "platform win32 -- Python 3.11.7, pytest-7.4.0, pluggy-1.0.0\n",
      "rootdir: G:\\Git_repo\\PytestParactice\n",
      "plugins: anyio-4.2.0\n",
      "collected 1 item\n",
      "\n",
      "Day1\\test_add.py \u001B[32m.\u001B[0m\u001B[32m                                                       [100%]\u001B[0m\n",
      "\n",
      "\u001B[32m============================== \u001B[32m\u001B[1m1 passed\u001B[0m\u001B[32m in 0.00s\u001B[0m\u001B[32m ==============================\u001B[0m\n"
     ]
    }
   ],
   "source": [
    "!python  G:\\Git_repo\\PytestParactice\\Day1\\test_add.py "
   ],
   "metadata": {
    "collapsed": false,
    "ExecuteTime": {
     "end_time": "2025-05-24T10:22:43.084494Z",
     "start_time": "2025-05-24T10:22:42.807801Z"
    }
   },
   "id": "d24d2c73fc83094",
   "execution_count": 14
  },
  {
   "cell_type": "markdown",
   "source": [
    "## 或者直接使用pytest来作为解释器"
   ],
   "metadata": {
    "collapsed": false
   },
   "id": "e5e98802bf01b82f"
  },
  {
   "cell_type": "code",
   "outputs": [
    {
     "name": "stdout",
     "output_type": "stream",
     "text": [
      "\u001B[1m============================= test session starts =============================\u001B[0m\n",
      "platform win32 -- Python 3.11.7, pytest-7.4.0, pluggy-1.0.0\n",
      "rootdir: G:\\Git_repo\\PytestParactice\n",
      "plugins: anyio-4.2.0\n",
      "collected 2 items\n",
      "\n",
      "Day1\\test_add.py \u001B[32m.\u001B[0m\u001B[31mF\u001B[0m\u001B[31m                                                      [100%]\u001B[0m\n",
      "\n",
      "================================== FAILURES ===================================\n",
      "\u001B[31m\u001B[1m_________________________________ test_add_2 __________________________________\u001B[0m\n",
      "\n",
      "    \u001B[94mdef\u001B[39;49;00m \u001B[92mtest_add_2\u001B[39;49;00m():\u001B[90m\u001B[39;49;00m\n",
      "    \u001B[90m    \u001B[39;49;00m\u001B[33m\"\"\"测试加法\"\"\"\u001B[39;49;00m\u001B[90m\u001B[39;49;00m\n",
      "        s = \u001B[94m1\u001B[39;49;00m + \u001B[94m2\u001B[39;49;00m\u001B[90m\u001B[39;49;00m\n",
      ">       \u001B[94massert\u001B[39;49;00m s == \u001B[94m4\u001B[39;49;00m, \u001B[33mf\u001B[39;49;00m\u001B[33m'\u001B[39;49;00m\u001B[33m断言失败, \u001B[39;49;00m\u001B[33m{\u001B[39;49;00ms\u001B[33m}\u001B[39;49;00m\u001B[33m != 3\u001B[39;49;00m\u001B[33m'\u001B[39;49;00m  \u001B[90m# 断言\u001B[39;49;00m\u001B[90m\u001B[39;49;00m\n",
      "\u001B[1m\u001B[31mE       AssertionError: 断言失败, 3 != 3\u001B[0m\n",
      "\u001B[1m\u001B[31mE       assert 3 == 4\u001B[0m\n",
      "\n",
      "\u001B[1m\u001B[31mDay1\\test_add.py\u001B[0m:8: AssertionError\n",
      "\u001B[36m\u001B[1m=========================== short test summary info ===========================\u001B[0m\n",
      "\u001B[31mFAILED\u001B[0m Day1/test_add.py::\u001B[1mtest_add_2\u001B[0m - AssertionError: 断言失败, 3 != 3\n",
      "\u001B[31m========================= \u001B[31m\u001B[1m1 failed\u001B[0m, \u001B[32m1 passed\u001B[0m\u001B[31m in 0.05s\u001B[0m\u001B[31m =========================\u001B[0m\n"
     ]
    }
   ],
   "source": [
    "!pytest Day1/test_add.py"
   ],
   "metadata": {
    "collapsed": false,
    "ExecuteTime": {
     "end_time": "2025-05-24T14:59:38.676956Z",
     "start_time": "2025-05-24T14:59:38.338829Z"
    }
   },
   "id": "28eb13ae1670a450",
   "execution_count": 21
  },
  {
   "cell_type": "markdown",
   "source": [
    "## pytest.mark.parametrize 用法\n",
    "### pytest.mark.parametrize 是 pytest 中用于参数化测试用例的装饰器。它允许你为测试函数提供多个参数值，从而在一次运行中执行多次测试。这样可以有效地减少重复代码，提高测试覆盖率"
   ],
   "metadata": {
    "collapsed": false
   },
   "id": "77a0de68f00a44df"
  },
  {
   "cell_type": "code",
   "outputs": [
    {
     "name": "stdout",
     "output_type": "stream",
     "text": [
      "\u001B[1m============================= test session starts =============================\u001B[0m\n",
      "platform win32 -- Python 3.11.7, pytest-7.4.0, pluggy-1.0.0\n",
      "rootdir: G:\\Git_repo\\PytestParactice\n",
      "plugins: anyio-4.2.0\n",
      "collected 7 items\n",
      "\n",
      "Day1\\parameterSet.py \u001B[32m.\u001B[0m\u001B[32m.\u001B[0m\u001B[32m.\u001B[0m\u001B[32m.\u001B[0m\u001B[32m.\u001B[0m\u001B[32m.\u001B[0m\u001B[32m.\u001B[0m\u001B[32m                                             [100%]\u001B[0m\n",
      "\n",
      "\u001B[32m============================== \u001B[32m\u001B[1m7 passed\u001B[0m\u001B[32m in 0.01s\u001B[0m\u001B[32m ==============================\u001B[0m\n"
     ]
    }
   ],
   "source": [
    "!pytest Day1/parameterSet.py"
   ],
   "metadata": {
    "collapsed": false,
    "ExecuteTime": {
     "end_time": "2025-05-24T15:43:08.027103Z",
     "start_time": "2025-05-24T15:43:07.750330Z"
    }
   },
   "id": "5c774b27c842ba85",
   "execution_count": 28
  },
  {
   "cell_type": "markdown",
   "source": [
    "## 测试程序运行成功时看不到实际打印的数据，又不想没事将练手内容写入日志再查看，可以直接到 parameterSet.py 文件处直接运行程序，详见该文件"
   ],
   "metadata": {
    "collapsed": false
   },
   "id": "2ad9a26668dfee65"
  },
  {
   "cell_type": "markdown",
   "source": [
    "### 另一种方法，在命令行文件中 加上-s可以输出测试类、方法中的print函数输出的内容"
   ],
   "metadata": {
    "collapsed": false
   },
   "id": "8f8bb1cf6993a1d7"
  },
  {
   "cell_type": "code",
   "outputs": [
    {
     "name": "stdout",
     "output_type": "stream",
     "text": [
      "\u001B[1m============================= test session starts =============================\u001B[0m\n",
      "platform win32 -- Python 3.11.7, pytest-7.4.0, pluggy-1.0.0 -- E:\\Anaconda\\python.exe\n",
      "cachedir: .pytest_cache\n",
      "rootdir: G:\\Git_repo\\PytestParactice\n",
      "plugins: anyio-4.2.0\n",
      "\u001B[1mcollecting ... \u001B[0mparameterSet\n",
      "collected 7 items\n",
      "\n",
      "Day1/parameterSet.py::test_example_1[\\u5f20\\u4e09] 测试参数: 张三\n",
      "\u001B[32mPASSED\u001B[0m\n",
      "Day1/parameterSet.py::test_example_1[\\u674e\\u56db] 测试参数: 李四\n",
      "\u001B[32mPASSED\u001B[0m\n",
      "Day1/parameterSet.py::test_example_1[\\u738b\\u4e94] 测试参数: 王五\n",
      "\u001B[32mPASSED\u001B[0m\n",
      "Day1/parameterSet.py::test_example_2[\\u5c0f\\u660e-18] 测试参数: 小明, 18\n",
      "\u001B[32mPASSED\u001B[0m\n",
      "Day1/parameterSet.py::test_example_2[\\u738b\\u6797-16] 测试参数: 王林, 16\n",
      "\u001B[32mPASSED\u001B[0m\n",
      "Day1/parameterSet.py::test_example_3[\\u7b2c\\u4e00\\u4e2a\\u4eba] 测试参数: 小明, 18\n",
      "\u001B[32mPASSED\u001B[0m\n",
      "Day1/parameterSet.py::test_example_3[\\u7b2c\\u4e8c\\u4e2a\\u4eba] 测试参数: 王林, 16\n",
      "\u001B[32mPASSED\u001B[0m\n",
      "\n",
      "\u001B[32m============================== \u001B[32m\u001B[1m7 passed\u001B[0m\u001B[32m in 0.01s\u001B[0m\u001B[32m ==============================\u001B[0m\n"
     ]
    }
   ],
   "source": [
    "!pytest Day1/parameterSet.py -sv "
   ],
   "metadata": {
    "collapsed": false,
    "ExecuteTime": {
     "end_time": "2025-05-24T15:50:46.762131Z",
     "start_time": "2025-05-24T15:50:46.486683Z"
    }
   },
   "id": "f91e09629bd90423",
   "execution_count": 35
  },
  {
   "cell_type": "markdown",
   "source": [
    "### 这里打印输出还是没能输出ids信息，使用TempFile.py来排除是前面测试没有IDS导致错误\n",
    "### 还是不对，AI分析有可能是参数过多，这条可以直接PASS\n",
    "### 最后发现可能是默认的pytest.ini文件不对，需要手动声明，详见项目pytest.ini"
   ],
   "metadata": {
    "collapsed": false
   },
   "id": "bbf2325aecb94413"
  },
  {
   "cell_type": "code",
   "outputs": [
    {
     "name": "stdout",
     "output_type": "stream",
     "text": [
      "\u001B[1m============================= test session starts =============================\u001B[0m\n",
      "platform win32 -- Python 3.11.7, pytest-7.4.0, pluggy-1.0.0 -- E:\\Anaconda\\python.exe\n",
      "cachedir: .pytest_cache\n",
      "rootdir: G:\\Git_repo\\PytestParactice\n",
      "configfile: pytest.ini\n",
      "plugins: anyio-4.2.0\n",
      "\u001B[1mcollecting ... \u001B[0mcollected 2 items\n",
      "\n",
      "Day1/TempFile.py::test_example_3[第一个人] 测试参数: 小明, 18\n",
      "\u001B[32mPASSED\u001B[0m\n",
      "Day1/TempFile.py::test_example_3[第二个人] 测试参数: 王林, 16\n",
      "\u001B[32mPASSED\u001B[0m\n",
      "\n",
      "\u001B[32m============================== \u001B[32m\u001B[1m2 passed\u001B[0m\u001B[32m in 0.00s\u001B[0m\u001B[32m ==============================\u001B[0m\n"
     ]
    }
   ],
   "source": [
    "!pytest Day1/TempFile.py -sv "
   ],
   "metadata": {
    "collapsed": false,
    "ExecuteTime": {
     "end_time": "2025-05-24T16:00:46.685673Z",
     "start_time": "2025-05-24T16:00:46.408047Z"
    }
   },
   "id": "f9f93ef5921cf997",
   "execution_count": 38
  },
  {
   "cell_type": "markdown",
   "source": [],
   "metadata": {
    "collapsed": false
   },
   "id": "3f9f9c91144357f2"
  },
  {
   "cell_type": "markdown",
   "source": [
    "### 这下ids正常显示了，可以准备下一步"
   ],
   "metadata": {
    "collapsed": false
   },
   "id": "38a75995f110fb6e"
  },
  {
   "cell_type": "markdown",
   "source": [
    "## 跳过及期望失败"
   ],
   "metadata": {
    "collapsed": false
   },
   "id": "905068d93cf6d200"
  },
  {
   "cell_type": "markdown",
   "source": [
    "### Pytest中可以@pytest.mark.skip()或@pytest.mark.skipif()装饰器来跳过或根据条件跳过用例。 详见skip.py"
   ],
   "metadata": {
    "collapsed": false
   },
   "id": "a4407475e70cf6ef"
  },
  {
   "cell_type": "code",
   "outputs": [
    {
     "name": "stdout",
     "output_type": "stream",
     "text": [
      "\u001B[1m============================= test session starts =============================\u001B[0m\n",
      "platform win32 -- Python 3.11.7, pytest-7.4.0, pluggy-1.0.0 -- E:\\Anaconda\\python.exe\n",
      "cachedir: .pytest_cache\n",
      "rootdir: G:\\Git_repo\\PytestParactice\n",
      "configfile: pytest.ini\n",
      "plugins: anyio-4.2.0\n",
      "\u001B[1mcollecting ... \u001B[0mcollected 3 items\n",
      "\n",
      "Day1/skip.py::test_sub \u001B[33mSKIPPED\u001B[0m (待实现)\n",
      "Day1/skip.py::test_linux_cmd \u001B[33mSKIPPED\u001B[0m (不支持该版本Windows)\n",
      "Day1/skip.py::test_add \u001B[33mXFAIL\u001B[0m (期望失败，3+4!=1)\n",
      "\n",
      "\u001B[33m======================== \u001B[33m\u001B[1m2 skipped\u001B[0m, \u001B[33m\u001B[1m1 xfailed\u001B[0m\u001B[33m in 0.04s\u001B[0m\u001B[33m ========================\u001B[0m\n"
     ]
    }
   ],
   "source": [
    "!pytest Day1/skip.py -sv "
   ],
   "metadata": {
    "collapsed": false,
    "ExecuteTime": {
     "end_time": "2025-05-24T16:12:04.336588Z",
     "start_time": "2025-05-24T16:12:04.026722Z"
    }
   },
   "id": "fdae193093ec8a88",
   "execution_count": 44
  }
 ],
 "metadata": {
  "kernelspec": {
   "name": "mypytest",
   "language": "python",
   "display_name": "myPyTest"
  },
  "language_info": {
   "codemirror_mode": {
    "name": "ipython",
    "version": 2
   },
   "file_extension": ".py",
   "mimetype": "text/x-python",
   "name": "python",
   "nbconvert_exporter": "python",
   "pygments_lexer": "ipython2",
   "version": "2.7.6"
  }
 },
 "nbformat": 4,
 "nbformat_minor": 5
}
